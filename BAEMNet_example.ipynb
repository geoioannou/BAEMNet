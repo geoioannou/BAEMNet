{
 "cells": [
  {
   "cell_type": "code",
   "execution_count": 1,
   "id": "64dd4357",
   "metadata": {},
   "outputs": [
    {
     "name": "stderr",
     "output_type": "stream",
     "text": [
      "e:\\python_3.7\\lib\\site-packages\\tqdm\\auto.py:22: TqdmWarning: IProgress not found. Please update jupyter and ipywidgets. See https://ipywidgets.readthedocs.io/en/stable/user_install.html\n",
      "  from .autonotebook import tqdm as notebook_tqdm\n"
     ]
    }
   ],
   "source": [
    "import numpy as np\n",
    "import torch\n",
    "from utils import train, Experiment\n",
    "from models import BAEMNet "
   ]
  },
  {
   "cell_type": "markdown",
   "id": "475db674",
   "metadata": {},
   "source": [
    "# Load the tabular Dataset"
   ]
  },
  {
   "cell_type": "code",
   "execution_count": 2,
   "id": "97de7fca",
   "metadata": {},
   "outputs": [],
   "source": [
    "# Lets load the Adult Dataset\n",
    "exp = Experiment(dataset=\"adult\")"
   ]
  },
  {
   "cell_type": "code",
   "execution_count": 3,
   "id": "60ba09c0",
   "metadata": {},
   "outputs": [
    {
     "name": "stdout",
     "output_type": "stream",
     "text": [
      "Adult Dataset:\n",
      "Trainset:  36177 Samples and 13 Features\n",
      "Testset:  9045 Samples\n"
     ]
    }
   ],
   "source": [
    "print(\"Adult Dataset:\")\n",
    "print(f\"Trainset:  {exp.x_train.shape[0]} Samples and {exp.x_train.shape[1]} Features\")\n",
    "print(f\"Testset:  {exp.x_test.shape[0]} Samples\")"
   ]
  },
  {
   "cell_type": "markdown",
   "id": "733d3d05",
   "metadata": {},
   "source": [
    "# Initialize the Baemnet model"
   ]
  },
  {
   "cell_type": "code",
   "execution_count": 4,
   "id": "f5eaf944",
   "metadata": {
    "scrolled": true
   },
   "outputs": [
    {
     "name": "stdout",
     "output_type": "stream",
     "text": [
      "Epoch:  0\n",
      "Epoch:  1\n",
      "Epoch:  2\n",
      "Epoch:  3\n",
      "Epoch:  4\n",
      "Epoch:  5\n",
      "Epoch:  6\n",
      "Epoch:  7\n",
      "Epoch:  8\n",
      "Epoch:  9\n",
      "Epoch:  10\n",
      "Epoch:  11\n",
      "Epoch:  12\n",
      "Epoch:  13\n",
      "Epoch:  14\n",
      "Epoch:  15\n",
      "Epoch:  16\n",
      "Epoch:  17\n",
      "Epoch:  18\n",
      "Epoch:  19\n",
      "Epoch:  20\n",
      "Epoch:  21\n",
      "Epoch:  22\n",
      "Epoch:  23\n",
      "Epoch:  24\n",
      "Epoch:  25\n",
      "Epoch:  26\n",
      "Epoch:  27\n",
      "Epoch:  28\n",
      "Epoch:  29\n",
      "Epoch:  30\n",
      "Epoch:  31\n",
      "Epoch:  32\n",
      "Epoch:  33\n",
      "Epoch:  34\n",
      "Epoch:  35\n",
      "Epoch:  36\n",
      "Epoch:  37\n",
      "Epoch:  38\n",
      "Epoch:  39\n",
      "Epoch:  40\n",
      "Epoch:  41\n",
      "Epoch:  42\n",
      "Epoch:  43\n",
      "Epoch:  44\n",
      "Epoch:  45\n",
      "Epoch:  46\n",
      "Epoch:  47\n",
      "Epoch:  48\n",
      "Epoch:  49\n",
      "Epoch:  50\n",
      "Epoch:  51\n",
      "Epoch:  52\n",
      "Epoch:  53\n",
      "Epoch:  54\n",
      "Epoch:  55\n",
      "Epoch:  56\n",
      "Epoch:  57\n",
      "Epoch:  58\n",
      "Epoch:  59\n",
      "Epoch:  60\n",
      "Epoch:  61\n",
      "Epoch:  62\n",
      "Epoch:  63\n",
      "Epoch:  64\n",
      "Epoch:  65\n",
      "Epoch:  66\n",
      "Epoch:  67\n",
      "Epoch:  68\n",
      "Epoch:  69\n",
      "Epoch:  70\n",
      "Epoch:  71\n",
      "Epoch:  72\n",
      "Epoch:  73\n",
      "Epoch:  74\n",
      "Epoch:  75\n",
      "Epoch:  76\n",
      "Epoch:  77\n",
      "Epoch:  78\n",
      "Epoch:  79\n",
      "Epoch:  80\n",
      "Epoch:  81\n",
      "Epoch:  82\n",
      "Epoch:  83\n",
      "Epoch:  84\n",
      "Epoch:  85\n",
      "Epoch:  86\n",
      "Epoch:  87\n",
      "Epoch:  88\n",
      "Epoch:  89\n",
      "Epoch:  90\n",
      "Epoch:  91\n",
      "Epoch:  92\n",
      "Epoch:  93\n",
      "Epoch:  94\n",
      "Epoch:  95\n",
      "Epoch:  96\n",
      "Epoch:  97\n",
      "Epoch:  98\n",
      "Epoch:  99\n",
      "Accuracy\n",
      "Test 0.8410171365395246\n"
     ]
    }
   ],
   "source": [
    "# Select device\n",
    "device = torch.device(\"cuda:0\" if torch.cuda.is_available() else \"cpu\")  \n",
    "\n",
    "\n",
    "baemnet = BAEMNet(inp_shape=exp.x_train.shape[1],    # Specify the number of features\n",
    "                  num_feats=exp.num_feats,           # Number of numerical features\n",
    "                  cat_feats=exp.cat_feats,           # Number of categorical features\n",
    "                  units=100,                         # Number of neurons per dense layer\n",
    "                  out_shape=2,                       # Number of classes\n",
    "                  vocab=np.ones(len(exp.cat_feats), dtype=\"int\") * 2 if exp.cat_feats is not None else None,  \n",
    "                                                     # Set Vocabulary length for each Categorical feature\n",
    "                  embed_dims=10,                     # Embedding dimensions\n",
    "                  baseline=\"zeros\").to(device)       # Set the unique embedding baseline \n",
    "                                                     # (zeros, ones, random or a specific tensor)\n",
    "\n",
    "    \n",
    "# Call the train function to train the model\n",
    "# Select the subset policy: (random or None)\n",
    "#  - random means that for each iteration a random subset of features is sampled\n",
    "#  - None means that there is no subset and baemnet is trained like a normal NN.\n",
    "baemnet = train(model=baemnet,\n",
    "                x_train=exp.x_train, \n",
    "                y_train=exp.y_train, \n",
    "                x_test=exp.x_test, \n",
    "                y_test=exp.y_test,\n",
    "                cat_feats=exp.cat_feats,\n",
    "                num_feats=exp.num_feats,\n",
    "                epochs=100, \n",
    "                subset=\"random\",       \n",
    "                device=device)"
   ]
  },
  {
   "cell_type": "markdown",
   "id": "e222bb39",
   "metadata": {},
   "source": [
    "# Using subsets to make predictions with less features"
   ]
  },
  {
   "cell_type": "code",
   "execution_count": 5,
   "id": "970e5296",
   "metadata": {},
   "outputs": [
    {
     "name": "stdout",
     "output_type": "stream",
     "text": [
      "Prediction with all features:  [[9.991710e-01 8.289574e-04]]\n",
      "Prediction with subset of features:  [[0.9662163  0.03378366]]\n"
     ]
    }
   ],
   "source": [
    "sub = torch.tensor([0, 0, 0, 1, 1, 1, 1, 1, 0, 0, 0, 1, 1])\n",
    "preds = baemnet.predict(exp.x_test[0:1].to(device), subset=None)\n",
    "sub_preds = baemnet.predict(exp.x_test[0:1].to(device), subset=sub.to(device))\n",
    "print(\"Prediction with all features: \", preds.detach().cpu().numpy())\n",
    "print(\"Prediction with subset of features: \", sub_preds.detach().cpu().numpy())"
   ]
  },
  {
   "cell_type": "markdown",
   "id": "396b8899",
   "metadata": {},
   "source": [
    "# Calculate Attributions"
   ]
  },
  {
   "cell_type": "code",
   "execution_count": 6,
   "id": "58d96370",
   "metadata": {},
   "outputs": [
    {
     "name": "stderr",
     "output_type": "stream",
     "text": [
      "e:\\python_3.7\\lib\\site-packages\\captum\\attr\\_utils\\batching.py:48: UserWarning: Internal batch size cannot be less than the number of input examples. Defaulting to internal batch size of 9045 equal to the number of examples.\n",
      "  % num_examples\n"
     ]
    },
    {
     "name": "stdout",
     "output_type": "stream",
     "text": [
      "tensor([[ 4.2297e-01,  6.8718e-03,  2.6275e-01,  ...,  2.4179e-01,\n",
      "          1.9552e-01,  1.7600e-02],\n",
      "        [-2.0773e-01,  1.3520e-03, -3.1941e-01,  ...,  1.6381e-02,\n",
      "         -1.7897e-02,  4.2969e-03],\n",
      "        [ 2.5415e-01,  2.2339e-02,  6.5351e-01,  ...,  1.4266e-01,\n",
      "          8.6669e-03,  9.4558e-03],\n",
      "        ...,\n",
      "        [-2.6073e-01,  1.1191e-02, -1.6681e-01,  ..., -1.3302e-01,\n",
      "          9.0209e-02, -9.9643e-03],\n",
      "        [-2.8164e-01,  3.8948e-04,  7.1313e-02,  ..., -5.0192e-03,\n",
      "         -1.6613e-02,  9.9175e-03],\n",
      "        [-2.6526e-01, -1.9601e-02, -1.6747e-01,  ..., -9.0509e-02,\n",
      "         -7.7006e-03, -2.7381e-03]], device='cuda:0', dtype=torch.float64)\n"
     ]
    }
   ],
   "source": [
    "# Lets calculate the IG attributions with the help of BAEMNet\n",
    "# We are using the Captum Library and the appropriate format\n",
    "# To calculate the attributions of BAEMNet we use 2 inputs: the dataset input and the subset input\n",
    "# The integration will be on the subset input\n",
    "# Thats why we set the baseline as a zero subset and the input as the ones subset\n",
    "\n",
    "from captum.attr import IntegratedGradients\n",
    "\n",
    "ig = IntegratedGradients(forward_func=baemnet)\n",
    "\n",
    "\n",
    "attrs = ig.attribute(inputs=(exp.x_test.to(device), \n",
    "                             torch.ones(exp.x_test.shape).to(device)),   # ones subest = all features present\n",
    "                     target=exp.y_test.to(device), \n",
    "                     baselines=(exp.x_test.to(device), \n",
    "                                torch.zeros(exp.x_test.shape).to(device)),  # zeros subset = all features absent \n",
    "                     n_steps=35, \n",
    "                     internal_batch_size=200, \n",
    "                     return_convergence_delta=True)\n",
    "\n",
    "\n",
    "print(attrs[0][1])"
   ]
  },
  {
   "cell_type": "markdown",
   "id": "06b2bd7c",
   "metadata": {},
   "source": [
    "# Plot Attributions"
   ]
  },
  {
   "cell_type": "code",
   "execution_count": 7,
   "id": "0528ca90",
   "metadata": {},
   "outputs": [],
   "source": [
    "import seaborn as sns\n",
    "import pandas as pd\n",
    "import matplotlib.pyplot as plt"
   ]
  },
  {
   "cell_type": "code",
   "execution_count": 8,
   "id": "427129a1",
   "metadata": {},
   "outputs": [],
   "source": [
    "def plot_attributions(attr, feature_names=None):\n",
    "    fig, ax = plt.subplots()\n",
    "    if feature_names is None:\n",
    "        df = pd.DataFrame({'Features': [f\"feat_{i}\" for i, _ in enumerate(attr)], \n",
    "                           'Attribution': [float(format(i, \".4f\")) for i in attr]})\n",
    "    else:\n",
    "        df = pd.DataFrame({'Features': [f\"{feature_names[i]}\" for i, _ in enumerate(attr)], \n",
    "                           'Attribution': [float(format(i, \".4f\")) for i in attr]})\n",
    "    \n",
    "    sns.barplot(data=df, x=\"Attribution\", y=\"Features\")\n",
    "    ax.bar_label(ax.containers[0])\n",
    "    plt.xlim(-1, 1)\n",
    "    sns.despine()\n",
    "    return fig, ax"
   ]
  },
  {
   "cell_type": "code",
   "execution_count": 9,
   "id": "541cc0ab",
   "metadata": {},
   "outputs": [
    {
     "data": {
      "text/plain": [
       "(<Figure size 432x288 with 1 Axes>,\n",
       " <AxesSubplot:xlabel='Attribution', ylabel='Features'>)"
      ]
     },
     "execution_count": 9,
     "metadata": {},
     "output_type": "execute_result"
    },
    {
     "data": {
      "image/png": "[encoded data removed]",
      "text/plain": [
       "<Figure size 432x288 with 1 Axes>"
      ]
     },
     "metadata": {
      "needs_background": "light"
     },
     "output_type": "display_data"
    }
   ],
   "source": [
    "# Lets plot the attributions of a sample\n",
    "sample = 310\n",
    "\n",
    "plot_attributions(attrs[0][1][sample], exp.feature_names)"
   ]
  }
 ],
 "metadata": {
  "kernelspec": {
   "display_name": "Python 3 (ipykernel)",
   "language": "python",
   "name": "python3"
  },
  "language_info": {
   "codemirror_mode": {
    "name": "ipython",
    "version": 3
   },
   "file_extension": ".py",
   "mimetype": "text/x-python",
   "name": "python",
   "nbconvert_exporter": "python",
   "pygments_lexer": "ipython3",
   "version": "3.7.9"
  }
 },
 "nbformat": 4,
 "nbformat_minor": 5
}
